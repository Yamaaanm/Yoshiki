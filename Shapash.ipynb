{
  "cells": [
    {
      "cell_type": "markdown",
      "metadata": {
        "id": "sXFbxES9Xik2"
      },
      "source": [
        "# ・分類モデル"
      ]
    },
    {
      "cell_type": "code",
      "execution_count": null,
      "metadata": {
        "id": "JB6gDZJUXik_"
      },
      "outputs": [],
      "source": [
        "import pandas as pd\n",
        "from shapash.data.data_loader import data_loading\n",
        "from category_encoders import OrdinalEncoder"
      ]
    },
    {
      "cell_type": "code",
      "execution_count": null,
      "metadata": {
        "id": "t-a9auEzXilC"
      },
      "outputs": [],
      "source": [
        "titanic_df, titanic_dict = data_loading('titanic') #titanicをロードします"
      ]
    },
    {
      "cell_type": "code",
      "execution_count": null,
      "metadata": {
        "id": "WUVHUnitXilC"
      },
      "outputs": [],
      "source": [
        "y_df=titanic_df['Survived'].to_frame() #Survivedデータ\n",
        "X_df=titanic_df[titanic_df.columns.difference(['Survived'])] #Survived以外のデータ "
      ]
    },
    {
      "cell_type": "code",
      "execution_count": null,
      "metadata": {
        "id": "WvfHpoj8XilD"
      },
      "outputs": [],
      "source": [
        "categorical_features = [col for col in X_df.columns if X_df[col].dtype == 'object'] #object型のcolumnsをリスト形式で抜き出す"
      ]
    },
    {
      "cell_type": "markdown",
      "metadata": {
        "id": "BP-1Xc1OXilE"
      },
      "source": [
        "カテゴリカル機能のエンコード "
      ]
    },
    {
      "cell_type": "code",
      "execution_count": null,
      "metadata": {
        "id": "FRVgL0XVXilE",
        "outputId": "00dfc870-b9b2-4524-87fe-96715e084982"
      },
      "outputs": [
        {
          "name": "stderr",
          "output_type": "stream",
          "text": [
            "C:\\Users\\yama\\AppData\\Local\\Programs\\Python\\Python38\\lib\\site-packages\\category_encoders\\utils.py:21: FutureWarning:\n",
            "\n",
            "is_categorical is deprecated and will be removed in a future version.  Use is_categorical_dtype instead\n",
            "\n"
          ]
        }
      ],
      "source": [
        "from category_encoders import OrdinalEncoder\n",
        "encoder = OrdinalEncoder(\n",
        "    cols=categorical_features,\n",
        "    handle_unknown='ignore',\n",
        "    return_df=True).fit(X_df)\n",
        "X_df=encoder.transform(X_df) #categorical_featuresをエンコード(数値化)"
      ]
    },
    {
      "cell_type": "markdown",
      "metadata": {
        "id": "heIbq4kkXilG"
      },
      "source": [
        "トレーニング/テスト分割 "
      ]
    },
    {
      "cell_type": "code",
      "execution_count": null,
      "metadata": {
        "id": "2PUnOqY2XilH"
      },
      "outputs": [],
      "source": [
        "from sklearn.model_selection import train_test_split\n",
        "Xtrain, Xtest, ytrain, ytest = train_test_split(X_df, y_df, train_size=0.75, random_state=7) #交差検証の為にデータを分割"
      ]
    },
    {
      "cell_type": "markdown",
      "metadata": {
        "id": "zXFABO2uXilJ"
      },
      "source": [
        "モデルフィッティング "
      ]
    },
    {
      "cell_type": "code",
      "execution_count": null,
      "metadata": {
        "id": "753lOYPzXilL",
        "outputId": "205d355f-adeb-4978-fbb7-2d130ffc50bc"
      },
      "outputs": [
        {
          "name": "stderr",
          "output_type": "stream",
          "text": [
            "<ipython-input-37-1486da2a76f7>:2: DataConversionWarning:\n",
            "\n",
            "A column-vector y was passed when a 1d array was expected. Please change the shape of y to (n_samples,), for example using ravel().\n",
            "\n"
          ]
        }
      ],
      "source": [
        "from sklearn.ensemble.forest import RandomForestClassifier #分類モデル(ランダムフォレスト)\n",
        "clf = RandomForestClassifier(n_estimators=200).fit(Xtrain,ytrain) #モデルの作成"
      ]
    },
    {
      "cell_type": "code",
      "execution_count": null,
      "metadata": {
        "id": "ig720KLgXilM"
      },
      "outputs": [],
      "source": [
        "y_pred = pd.DataFrame(clf.predict(Xtest),columns=['pred'],index=Xtest.index).astype(int) #予測結果の作成"
      ]
    },
    {
      "cell_type": "markdown",
      "metadata": {
        "id": "9_ClA4nyXilN"
      },
      "source": [
        "SmartExplainerを宣言してコンパイルする "
      ]
    },
    {
      "cell_type": "code",
      "execution_count": null,
      "metadata": {
        "id": "RGkuJyo6XilN"
      },
      "outputs": [],
      "source": [
        "from shapash.explainer.smart_explainer import SmartExplainer #"
      ]
    },
    {
      "cell_type": "code",
      "execution_count": null,
      "metadata": {
        "id": "dm3VhS49XilO"
      },
      "outputs": [],
      "source": [
        "response_dict = {0: 'Death', 1:'Survival'} #ラベルの指定"
      ]
    },
    {
      "cell_type": "code",
      "execution_count": null,
      "metadata": {
        "id": "TPiXVaURXilO"
      },
      "outputs": [],
      "source": [
        "xpl = SmartExplainer(\n",
        "    features_dict=titanic_dict, # 特徴量の説明を指定\n",
        "    label_dict=response_dict    # 分かりやすいように結果ラベルを指定\n",
        ")"
      ]
    },
    {
      "cell_type": "markdown",
      "metadata": {
        "id": "0sLvuHxsXilP"
      },
      "source": [
        "説明変数、分類モデル、前処理に利用したエンコーダ、予測結果を指定してコンパイルします。"
      ]
    },
    {
      "cell_type": "code",
      "execution_count": null,
      "metadata": {
        "id": "wfD3djWRXilP",
        "outputId": "7a3d1f20-7115-4435-ed36-ed9f4a4fda4e"
      },
      "outputs": [
        {
          "name": "stdout",
          "output_type": "stream",
          "text": [
            "Backend: Shap TreeExplainer\n"
          ]
        }
      ],
      "source": [
        "xpl.compile(\n",
        "    x=Xtest,\n",
        "    model=clf,\n",
        "    preprocessing=encoder, \n",
        "    y_pred=y_pred\n",
        ")"
      ]
    },
    {
      "cell_type": "markdown",
      "metadata": {
        "id": "3T653DyLXilQ"
      },
      "source": [
        "WebAppを起動します "
      ]
    },
    {
      "cell_type": "code",
      "execution_count": null,
      "metadata": {
        "id": "k4ENUl1LXilQ",
        "outputId": "e3eff235-0757-4f5c-c7b5-9dd510ada12f"
      },
      "outputs": [
        {
          "name": "stderr",
          "output_type": "stream",
          "text": [
            "C:\\Users\\yama\\AppData\\Local\\Programs\\Python\\Python38\\lib\\site-packages\\shapash\\webapp\\smart_app.py:297: FutureWarning:\n",
            "\n",
            "Using short name for 'orient' is deprecated. Only the options: ('dict', list, 'series', 'split', 'records', 'index') will be used in a future version. Use one of the above to silence this warning.\n",
            "\n",
            "INFO:root:Your Shapash application run on http://DESKTOP-FQP7LG7:8050/\n"
          ]
        },
        {
          "name": "stdout",
          "output_type": "stream",
          "text": [
            "Dash is running on http://0.0.0.0:8050/\n",
            "\n",
            "Dash is running on http://0.0.0.0:8050/\n",
            "\n"
          ]
        },
        {
          "name": "stderr",
          "output_type": "stream",
          "text": [
            "INFO:root:Use the method .kill() to down your app.\n"
          ]
        },
        {
          "name": "stdout",
          "output_type": "stream",
          "text": [
            "Dash is running on http://0.0.0.0:8050/\n",
            "\n"
          ]
        },
        {
          "name": "stderr",
          "output_type": "stream",
          "text": [
            "INFO:shapash.webapp.smart_app:Dash is running on http://0.0.0.0:8050/\n",
            "\n"
          ]
        },
        {
          "name": "stdout",
          "output_type": "stream",
          "text": [
            " * Serving Flask app 'shapash.webapp.smart_app' (lazy loading)\n",
            " * Environment: production\n",
            "\u001b[31m   WARNING: This is a development server. Do not use it in a production deployment.\u001b[0m\n",
            "\u001b[2m   Use a production WSGI server instead.\u001b[0m\n",
            " * Debug mode: off\n"
          ]
        },
        {
          "name": "stderr",
          "output_type": "stream",
          "text": [
            "WARNING:werkzeug: * Running on all addresses.\n",
            "   WARNING: This is a development server. Do not use it in a production deployment.\n",
            "INFO:werkzeug: * Running on http://192.168.2.105:8050/ (Press CTRL+C to quit)\n"
          ]
        }
      ],
      "source": [
        "app = xpl.run_app()"
      ]
    },
    {
      "cell_type": "markdown",
      "metadata": {
        "id": "WKT1UK5UXilR"
      },
      "source": [
        "リンクを読む込む事でShapash Monitorを参照する事が可能です。"
      ]
    },
    {
      "cell_type": "markdown",
      "metadata": {
        "id": "YuPB9w5tXilS"
      },
      "source": [
        "使用後にWebAppを停止します"
      ]
    },
    {
      "cell_type": "code",
      "execution_count": null,
      "metadata": {
        "id": "xUAKgv2vXilS"
      },
      "outputs": [],
      "source": [
        "app.kill()"
      ]
    },
    {
      "cell_type": "markdown",
      "metadata": {
        "id": "y7OW95OFXilT"
      },
      "source": [
        "SmartExplainerをピクルスファイルに保存 "
      ]
    },
    {
      "cell_type": "code",
      "execution_count": null,
      "metadata": {
        "id": "Rvf-swoJXilT"
      },
      "outputs": [],
      "source": [
        "xpl.save('./xpl.pkl')"
      ]
    },
    {
      "cell_type": "markdown",
      "metadata": {
        "id": "u2VNWgUGXilU"
      },
      "source": [
        "![title](img/picture.png)"
      ]
    },
    {
      "cell_type": "markdown",
      "metadata": {
        "id": "UmWP0zBTXilU"
      },
      "source": [
        "feature_plot：\n",
        "性別(sex)、チケットクラス(ticket_class)・・生存率に対する寄与率が高い順に並べられています。"
      ]
    },
    {
      "cell_type": "markdown",
      "metadata": {
        "id": "PTYzUutOXilU"
      },
      "source": [
        "sex_plot：\n",
        "女性の方が生存率が高いとみてとれます。"
      ]
    },
    {
      "cell_type": "markdown",
      "metadata": {
        "id": "tBciPifGXilU"
      },
      "source": [
        "Local_plot：\n",
        "id=254(30歳、男性)を対象としています。\n",
        "Age, Passenger fareが生存率を上げ、sexが生存率を下げている原因と考えられます。"
      ]
    },
    {
      "cell_type": "code",
      "execution_count": null,
      "metadata": {
        "id": "PHclBOpXXilV"
      },
      "outputs": [],
      "source": [
        ""
      ]
    },
    {
      "cell_type": "markdown",
      "metadata": {
        "id": "7DBYoM19XpCL"
      },
      "source": [
        "# ・回帰モデル"
      ]
    },
    {
      "cell_type": "code",
      "execution_count": null,
      "metadata": {
        "id": "KIu22NCMXpCO"
      },
      "outputs": [],
      "source": [
        "import numpy as np\n",
        "import seaborn as sns\n",
        "import pandas as pd\n",
        "from sklearn.linear_model import LinearRegression\n",
        "from sklearn.model_selection import train_test_split"
      ]
    },
    {
      "cell_type": "markdown",
      "metadata": {
        "id": "wnBGD7_XXpCR"
      },
      "source": [
        "住宅価格データを読み込む "
      ]
    },
    {
      "cell_type": "code",
      "execution_count": null,
      "metadata": {
        "id": "KktryGS1XpCR"
      },
      "outputs": [],
      "source": [
        "from shapash.data.data_loader import data_loading\n",
        "house_df, house_dict = data_loading('house_prices')\n",
        "y_df = house_df['SalePrice'].to_frame()\n",
        "X_df = house_df[house_df.columns.difference(['SalePrice'])]"
      ]
    },
    {
      "cell_type": "code",
      "execution_count": null,
      "metadata": {
        "collapsed": true,
        "jupyter": {
          "outputs_hidden": true
        },
        "id": "gPTh1quVXpCT",
        "outputId": "6652712d-da36-4f5a-a8c5-bef72f54c4a5"
      },
      "outputs": [
        {
          "data": {
            "text/html": [
              "<div>\n",
              "<style scoped>\n",
              "    .dataframe tbody tr th:only-of-type {\n",
              "        vertical-align: middle;\n",
              "    }\n",
              "\n",
              "    .dataframe tbody tr th {\n",
              "        vertical-align: top;\n",
              "    }\n",
              "\n",
              "    .dataframe thead th {\n",
              "        text-align: right;\n",
              "    }\n",
              "</style>\n",
              "<table border=\"1\" class=\"dataframe\">\n",
              "  <thead>\n",
              "    <tr style=\"text-align: right;\">\n",
              "      <th></th>\n",
              "      <th>1stFlrSF</th>\n",
              "      <th>2ndFlrSF</th>\n",
              "      <th>3SsnPorch</th>\n",
              "      <th>BedroomAbvGr</th>\n",
              "      <th>BldgType</th>\n",
              "      <th>BsmtCond</th>\n",
              "      <th>BsmtExposure</th>\n",
              "      <th>BsmtFinSF1</th>\n",
              "      <th>BsmtFinSF2</th>\n",
              "      <th>BsmtFinType1</th>\n",
              "      <th>...</th>\n",
              "      <th>SaleType</th>\n",
              "      <th>ScreenPorch</th>\n",
              "      <th>Street</th>\n",
              "      <th>TotRmsAbvGrd</th>\n",
              "      <th>TotalBsmtSF</th>\n",
              "      <th>Utilities</th>\n",
              "      <th>WoodDeckSF</th>\n",
              "      <th>YearBuilt</th>\n",
              "      <th>YearRemodAdd</th>\n",
              "      <th>YrSold</th>\n",
              "    </tr>\n",
              "    <tr>\n",
              "      <th>Id</th>\n",
              "      <th></th>\n",
              "      <th></th>\n",
              "      <th></th>\n",
              "      <th></th>\n",
              "      <th></th>\n",
              "      <th></th>\n",
              "      <th></th>\n",
              "      <th></th>\n",
              "      <th></th>\n",
              "      <th></th>\n",
              "      <th></th>\n",
              "      <th></th>\n",
              "      <th></th>\n",
              "      <th></th>\n",
              "      <th></th>\n",
              "      <th></th>\n",
              "      <th></th>\n",
              "      <th></th>\n",
              "      <th></th>\n",
              "      <th></th>\n",
              "      <th></th>\n",
              "    </tr>\n",
              "  </thead>\n",
              "  <tbody>\n",
              "    <tr>\n",
              "      <th>1</th>\n",
              "      <td>856</td>\n",
              "      <td>854</td>\n",
              "      <td>0</td>\n",
              "      <td>3</td>\n",
              "      <td>Single-family Detached</td>\n",
              "      <td>Typical - slight dampness allowed</td>\n",
              "      <td>No Exposure/No Basement</td>\n",
              "      <td>706</td>\n",
              "      <td>0</td>\n",
              "      <td>Good Living Quarters</td>\n",
              "      <td>...</td>\n",
              "      <td>Warranty Deed - Conventional</td>\n",
              "      <td>0</td>\n",
              "      <td>Paved</td>\n",
              "      <td>8</td>\n",
              "      <td>856</td>\n",
              "      <td>All public Utilities (E,G,W,&amp; S)</td>\n",
              "      <td>0</td>\n",
              "      <td>2003</td>\n",
              "      <td>2003</td>\n",
              "      <td>2008</td>\n",
              "    </tr>\n",
              "    <tr>\n",
              "      <th>2</th>\n",
              "      <td>1262</td>\n",
              "      <td>0</td>\n",
              "      <td>0</td>\n",
              "      <td>3</td>\n",
              "      <td>Single-family Detached</td>\n",
              "      <td>Typical - slight dampness allowed</td>\n",
              "      <td>Good Exposure</td>\n",
              "      <td>978</td>\n",
              "      <td>0</td>\n",
              "      <td>Average Living Quarters</td>\n",
              "      <td>...</td>\n",
              "      <td>Warranty Deed - Conventional</td>\n",
              "      <td>0</td>\n",
              "      <td>Paved</td>\n",
              "      <td>6</td>\n",
              "      <td>1262</td>\n",
              "      <td>All public Utilities (E,G,W,&amp; S)</td>\n",
              "      <td>298</td>\n",
              "      <td>1976</td>\n",
              "      <td>1976</td>\n",
              "      <td>2007</td>\n",
              "    </tr>\n",
              "    <tr>\n",
              "      <th>3</th>\n",
              "      <td>920</td>\n",
              "      <td>866</td>\n",
              "      <td>0</td>\n",
              "      <td>3</td>\n",
              "      <td>Single-family Detached</td>\n",
              "      <td>Typical - slight dampness allowed</td>\n",
              "      <td>Mimimum Exposure</td>\n",
              "      <td>486</td>\n",
              "      <td>0</td>\n",
              "      <td>Good Living Quarters</td>\n",
              "      <td>...</td>\n",
              "      <td>Warranty Deed - Conventional</td>\n",
              "      <td>0</td>\n",
              "      <td>Paved</td>\n",
              "      <td>6</td>\n",
              "      <td>920</td>\n",
              "      <td>All public Utilities (E,G,W,&amp; S)</td>\n",
              "      <td>0</td>\n",
              "      <td>2001</td>\n",
              "      <td>2002</td>\n",
              "      <td>2008</td>\n",
              "    </tr>\n",
              "    <tr>\n",
              "      <th>4</th>\n",
              "      <td>961</td>\n",
              "      <td>756</td>\n",
              "      <td>0</td>\n",
              "      <td>3</td>\n",
              "      <td>Single-family Detached</td>\n",
              "      <td>Good</td>\n",
              "      <td>No Exposure/No Basement</td>\n",
              "      <td>216</td>\n",
              "      <td>0</td>\n",
              "      <td>Average Living Quarters</td>\n",
              "      <td>...</td>\n",
              "      <td>Warranty Deed - Conventional</td>\n",
              "      <td>0</td>\n",
              "      <td>Paved</td>\n",
              "      <td>7</td>\n",
              "      <td>756</td>\n",
              "      <td>All public Utilities (E,G,W,&amp; S)</td>\n",
              "      <td>0</td>\n",
              "      <td>1915</td>\n",
              "      <td>1970</td>\n",
              "      <td>2006</td>\n",
              "    </tr>\n",
              "    <tr>\n",
              "      <th>5</th>\n",
              "      <td>1145</td>\n",
              "      <td>1053</td>\n",
              "      <td>0</td>\n",
              "      <td>4</td>\n",
              "      <td>Single-family Detached</td>\n",
              "      <td>Typical - slight dampness allowed</td>\n",
              "      <td>Average Exposure</td>\n",
              "      <td>655</td>\n",
              "      <td>0</td>\n",
              "      <td>Good Living Quarters</td>\n",
              "      <td>...</td>\n",
              "      <td>Warranty Deed - Conventional</td>\n",
              "      <td>0</td>\n",
              "      <td>Paved</td>\n",
              "      <td>9</td>\n",
              "      <td>1145</td>\n",
              "      <td>All public Utilities (E,G,W,&amp; S)</td>\n",
              "      <td>192</td>\n",
              "      <td>2000</td>\n",
              "      <td>2000</td>\n",
              "      <td>2008</td>\n",
              "    </tr>\n",
              "  </tbody>\n",
              "</table>\n",
              "<p>5 rows × 72 columns</p>\n",
              "</div>"
            ],
            "text/plain": [
              "    1stFlrSF  2ndFlrSF  3SsnPorch  BedroomAbvGr                BldgType  \\\n",
              "Id                                                                        \n",
              "1        856       854          0             3  Single-family Detached   \n",
              "2       1262         0          0             3  Single-family Detached   \n",
              "3        920       866          0             3  Single-family Detached   \n",
              "4        961       756          0             3  Single-family Detached   \n",
              "5       1145      1053          0             4  Single-family Detached   \n",
              "\n",
              "                             BsmtCond             BsmtExposure  BsmtFinSF1  \\\n",
              "Id                                                                           \n",
              "1   Typical - slight dampness allowed  No Exposure/No Basement         706   \n",
              "2   Typical - slight dampness allowed            Good Exposure         978   \n",
              "3   Typical - slight dampness allowed         Mimimum Exposure         486   \n",
              "4                                Good  No Exposure/No Basement         216   \n",
              "5   Typical - slight dampness allowed         Average Exposure         655   \n",
              "\n",
              "    BsmtFinSF2             BsmtFinType1  ...                      SaleType  \\\n",
              "Id                                       ...                                 \n",
              "1            0     Good Living Quarters  ...  Warranty Deed - Conventional   \n",
              "2            0  Average Living Quarters  ...  Warranty Deed - Conventional   \n",
              "3            0     Good Living Quarters  ...  Warranty Deed - Conventional   \n",
              "4            0  Average Living Quarters  ...  Warranty Deed - Conventional   \n",
              "5            0     Good Living Quarters  ...  Warranty Deed - Conventional   \n",
              "\n",
              "    ScreenPorch  Street TotRmsAbvGrd  TotalBsmtSF  \\\n",
              "Id                                                  \n",
              "1             0   Paved            8          856   \n",
              "2             0   Paved            6         1262   \n",
              "3             0   Paved            6          920   \n",
              "4             0   Paved            7          756   \n",
              "5             0   Paved            9         1145   \n",
              "\n",
              "                           Utilities WoodDeckSF YearBuilt YearRemodAdd  YrSold  \n",
              "Id                                                                              \n",
              "1   All public Utilities (E,G,W,& S)          0      2003         2003    2008  \n",
              "2   All public Utilities (E,G,W,& S)        298      1976         1976    2007  \n",
              "3   All public Utilities (E,G,W,& S)          0      2001         2002    2008  \n",
              "4   All public Utilities (E,G,W,& S)          0      1915         1970    2006  \n",
              "5   All public Utilities (E,G,W,& S)        192      2000         2000    2008  \n",
              "\n",
              "[5 rows x 72 columns]"
            ]
          },
          "execution_count": 130,
          "metadata": {},
          "output_type": "execute_result"
        }
      ],
      "source": [
        "X_df.head()"
      ]
    },
    {
      "cell_type": "code",
      "execution_count": null,
      "metadata": {
        "collapsed": true,
        "jupyter": {
          "outputs_hidden": true
        },
        "id": "5E8JNJcsXpCV",
        "outputId": "d126a03d-9073-4b36-8ca7-f8f520fb3b9a"
      },
      "outputs": [
        {
          "name": "stdout",
          "output_type": "stream",
          "text": [
            "<class 'pandas.core.frame.DataFrame'>\n",
            "Int64Index: 1460 entries, 1 to 1460\n",
            "Data columns (total 72 columns):\n",
            " #   Column         Non-Null Count  Dtype  \n",
            "---  ------         --------------  -----  \n",
            " 0   1stFlrSF       1460 non-null   int64  \n",
            " 1   2ndFlrSF       1460 non-null   int64  \n",
            " 2   3SsnPorch      1460 non-null   int64  \n",
            " 3   BedroomAbvGr   1460 non-null   int64  \n",
            " 4   BldgType       1460 non-null   object \n",
            " 5   BsmtCond       1460 non-null   object \n",
            " 6   BsmtExposure   1460 non-null   object \n",
            " 7   BsmtFinSF1     1460 non-null   int64  \n",
            " 8   BsmtFinSF2     1460 non-null   int64  \n",
            " 9   BsmtFinType1   1460 non-null   object \n",
            " 10  BsmtFinType2   1460 non-null   object \n",
            " 11  BsmtFullBath   1460 non-null   int64  \n",
            " 12  BsmtHalfBath   1460 non-null   int64  \n",
            " 13  BsmtQual       1460 non-null   object \n",
            " 14  BsmtUnfSF      1460 non-null   int64  \n",
            " 15  CentralAir     1460 non-null   object \n",
            " 16  Condition1     1460 non-null   object \n",
            " 17  Condition2     1460 non-null   object \n",
            " 18  Electrical     1460 non-null   object \n",
            " 19  EnclosedPorch  1460 non-null   int64  \n",
            " 20  ExterCond      1460 non-null   object \n",
            " 21  ExterQual      1460 non-null   object \n",
            " 22  Exterior1st    1460 non-null   object \n",
            " 23  Exterior2nd    1460 non-null   object \n",
            " 24  Fireplaces     1460 non-null   int64  \n",
            " 25  Foundation     1460 non-null   object \n",
            " 26  FullBath       1460 non-null   int64  \n",
            " 27  Functional     1460 non-null   object \n",
            " 28  GarageArea     1460 non-null   int64  \n",
            " 29  GarageCond     1460 non-null   object \n",
            " 30  GarageFinish   1460 non-null   object \n",
            " 31  GarageQual     1460 non-null   object \n",
            " 32  GarageType     1460 non-null   object \n",
            " 33  GarageYrBlt    1460 non-null   float64\n",
            " 34  GrLivArea      1460 non-null   int64  \n",
            " 35  HalfBath       1460 non-null   int64  \n",
            " 36  Heating        1460 non-null   object \n",
            " 37  HeatingQC      1460 non-null   object \n",
            " 38  HouseStyle     1460 non-null   object \n",
            " 39  KitchenAbvGr   1460 non-null   int64  \n",
            " 40  KitchenQual    1460 non-null   object \n",
            " 41  LandContour    1460 non-null   object \n",
            " 42  LandSlope      1460 non-null   object \n",
            " 43  LotArea        1460 non-null   int64  \n",
            " 44  LotConfig      1460 non-null   object \n",
            " 45  LotShape       1460 non-null   object \n",
            " 46  LowQualFinSF   1460 non-null   int64  \n",
            " 47  MSSubClass     1460 non-null   object \n",
            " 48  MSZoning       1460 non-null   object \n",
            " 49  MasVnrArea     1460 non-null   float64\n",
            " 50  MasVnrType     1460 non-null   object \n",
            " 51  MiscVal        1460 non-null   int64  \n",
            " 52  MoSold         1460 non-null   int64  \n",
            " 53  Neighborhood   1460 non-null   object \n",
            " 54  OpenPorchSF    1460 non-null   int64  \n",
            " 55  OverallCond    1460 non-null   int64  \n",
            " 56  OverallQual    1460 non-null   int64  \n",
            " 57  PavedDrive     1460 non-null   object \n",
            " 58  PoolArea       1460 non-null   int64  \n",
            " 59  RoofMatl       1460 non-null   object \n",
            " 60  RoofStyle      1460 non-null   object \n",
            " 61  SaleCondition  1460 non-null   object \n",
            " 62  SaleType       1460 non-null   object \n",
            " 63  ScreenPorch    1460 non-null   int64  \n",
            " 64  Street         1460 non-null   object \n",
            " 65  TotRmsAbvGrd   1460 non-null   int64  \n",
            " 66  TotalBsmtSF    1460 non-null   int64  \n",
            " 67  Utilities      1460 non-null   object \n",
            " 68  WoodDeckSF     1460 non-null   int64  \n",
            " 69  YearBuilt      1460 non-null   int64  \n",
            " 70  YearRemodAdd   1460 non-null   int64  \n",
            " 71  YrSold         1460 non-null   int64  \n",
            "dtypes: float64(2), int64(31), object(39)\n",
            "memory usage: 832.7+ KB\n"
          ]
        }
      ],
      "source": [
        "X_df.info()"
      ]
    },
    {
      "cell_type": "code",
      "execution_count": null,
      "metadata": {
        "id": "Wgu4wURUXpCW",
        "outputId": "e65c7a42-dad9-4674-c88f-2e6720fd2876"
      },
      "outputs": [
        {
          "name": "stderr",
          "output_type": "stream",
          "text": [
            "C:\\Users\\yama\\AppData\\Local\\Programs\\Python\\Python38\\lib\\site-packages\\category_encoders\\utils.py:21: FutureWarning:\n",
            "\n",
            "is_categorical is deprecated and will be removed in a future version.  Use is_categorical_dtype instead\n",
            "\n"
          ]
        }
      ],
      "source": [
        "from category_encoders import OrdinalEncoder\n",
        "\n",
        "categorical_features = [col for col in X_df.columns if X_df[col].dtype == 'object']\n",
        "\n",
        "encoder = OrdinalEncoder(\n",
        "    cols=categorical_features,\n",
        "    handle_unknown='ignore',\n",
        "    return_df=True).fit(X_df)\n",
        "\n",
        "X_df = encoder.transform(X_df)"
      ]
    },
    {
      "cell_type": "markdown",
      "metadata": {
        "id": "DFHIHZH2XpCX"
      },
      "source": [
        "トレーニング/テスト分割 "
      ]
    },
    {
      "cell_type": "code",
      "execution_count": null,
      "metadata": {
        "id": "8X0PFb5MXpCX"
      },
      "outputs": [],
      "source": [
        "Xtrain, Xtest, ytrain, ytest = train_test_split(X_df, y_df, train_size=0.75, random_state=1)"
      ]
    },
    {
      "cell_type": "markdown",
      "metadata": {
        "id": "0iYLEIIQXpCY"
      },
      "source": [
        "モデルフィッティング "
      ]
    },
    {
      "cell_type": "code",
      "execution_count": null,
      "metadata": {
        "id": "357m05ThXpCY"
      },
      "outputs": [],
      "source": [
        "regressor = LinearRegression().fit(Xtrain,ytrain) #線形回帰モデル"
      ]
    },
    {
      "cell_type": "code",
      "execution_count": null,
      "metadata": {
        "id": "Ws32uBcLXpCZ"
      },
      "outputs": [],
      "source": [
        "y_pred = pd.DataFrame(regressor.predict(Xtest), columns=['pred'], index=Xtest.index)"
      ]
    },
    {
      "cell_type": "code",
      "execution_count": null,
      "metadata": {
        "id": "8H786xEMXpCZ"
      },
      "outputs": [],
      "source": [
        "from shapash.explainer.smart_explainer import SmartExplainer"
      ]
    },
    {
      "cell_type": "code",
      "execution_count": null,
      "metadata": {
        "id": "oufxxnXLXpCa"
      },
      "outputs": [],
      "source": [
        "xpl = SmartExplainer(features_dict=house_dict)"
      ]
    },
    {
      "cell_type": "code",
      "execution_count": null,
      "metadata": {
        "id": "l5se2Qh6XpCa",
        "outputId": "a2ad5df3-84d2-4b78-a808-133c141def5e"
      },
      "outputs": [
        {
          "name": "stdout",
          "output_type": "stream",
          "text": [
            "Backend: Shap LinearExplainer\n"
          ]
        }
      ],
      "source": [
        "xpl.compile(\n",
        "    x=Xtest,\n",
        "    model=regressor,\n",
        "    preprocessing=encoder, # Optional: compile step can use inverse_transform method\n",
        "    y_pred=y_pred # Optional\n",
        ")"
      ]
    },
    {
      "cell_type": "markdown",
      "metadata": {
        "id": "jkspqbHqXpCb"
      },
      "source": [
        "WebAppを起動します"
      ]
    },
    {
      "cell_type": "code",
      "execution_count": null,
      "metadata": {
        "id": "tcFdOX3AXpCc",
        "outputId": "df654d25-1cbe-4c69-c33e-e55efb9902b0"
      },
      "outputs": [
        {
          "name": "stderr",
          "output_type": "stream",
          "text": [
            "C:\\Users\\yama\\AppData\\Local\\Programs\\Python\\Python38\\lib\\site-packages\\shapash\\webapp\\smart_app.py:297: FutureWarning:\n",
            "\n",
            "Using short name for 'orient' is deprecated. Only the options: ('dict', list, 'series', 'split', 'records', 'index') will be used in a future version. Use one of the above to silence this warning.\n",
            "\n"
          ]
        },
        {
          "name": "stdout",
          "output_type": "stream",
          "text": [
            "Dash is running on http://0.0.0.0:8050/\n",
            "\n"
          ]
        },
        {
          "name": "stderr",
          "output_type": "stream",
          "text": [
            "INFO:root:Your Shapash application run on http://DESKTOP-FQP7LG7:8050/\n",
            "INFO:root:Use the method .kill() to down your app.\n"
          ]
        },
        {
          "name": "stdout",
          "output_type": "stream",
          "text": [
            "Dash is running on http://0.0.0.0:8050/\n",
            "\n",
            "Dash is running on http://0.0.0.0:8050/\n",
            "\n",
            "Dash is running on http://0.0.0.0:8050/\n",
            "\n",
            "Dash is running on http://0.0.0.0:8050/\n",
            "\n",
            "Dash is running on http://0.0.0.0:8050/\n",
            "\n"
          ]
        },
        {
          "name": "stderr",
          "output_type": "stream",
          "text": [
            "INFO:shapash.webapp.smart_app:Dash is running on http://0.0.0.0:8050/\n",
            "\n"
          ]
        },
        {
          "name": "stdout",
          "output_type": "stream",
          "text": [
            " * Serving Flask app 'shapash.webapp.smart_app' (lazy loading)\n",
            " * Environment: production\n",
            "\u001b[31m   WARNING: This is a development server. Do not use it in a production deployment.\u001b[0m\n",
            "\u001b[2m   Use a production WSGI server instead.\u001b[0m\n",
            " * Debug mode: off\n"
          ]
        },
        {
          "name": "stderr",
          "output_type": "stream",
          "text": [
            "WARNING:werkzeug: * Running on all addresses.\n",
            "   WARNING: This is a development server. Do not use it in a production deployment.\n",
            "INFO:werkzeug: * Running on http://192.168.2.105:8050/ (Press CTRL+C to quit)\n"
          ]
        }
      ],
      "source": [
        "app = xpl.run_app()"
      ]
    },
    {
      "cell_type": "markdown",
      "metadata": {
        "id": "l-1NrESBXpCc"
      },
      "source": [
        "使用後にWebAppを停止します"
      ]
    },
    {
      "cell_type": "code",
      "execution_count": null,
      "metadata": {
        "id": "qkM9jAmXXpCc"
      },
      "outputs": [],
      "source": [
        "app.kill()"
      ]
    },
    {
      "cell_type": "code",
      "execution_count": null,
      "metadata": {
        "id": "XWYFYfSZXpCd"
      },
      "outputs": [],
      "source": [
        ""
      ]
    },
    {
      "cell_type": "code",
      "execution_count": null,
      "metadata": {
        "id": "Pl16OYcCXpCd"
      },
      "outputs": [],
      "source": [
        ""
      ]
    }
  ],
  "metadata": {
    "kernelspec": {
      "display_name": "Python 3",
      "language": "python",
      "name": "python3"
    },
    "language_info": {
      "codemirror_mode": {
        "name": "ipython",
        "version": 3
      },
      "file_extension": ".py",
      "mimetype": "text/x-python",
      "name": "python",
      "nbconvert_exporter": "python",
      "pygments_lexer": "ipython3",
      "version": "3.8.5"
    },
    "colab": {
      "name": "Shapash.ipynb",
      "provenance": []
    }
  },
  "nbformat": 4,
  "nbformat_minor": 0
}