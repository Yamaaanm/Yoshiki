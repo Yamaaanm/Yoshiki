{
  "nbformat": 4,
  "nbformat_minor": 0,
  "metadata": {
    "colab": {
      "name": "streamlit.ipynb のコピー",
      "provenance": [],
      "collapsed_sections": []
    },
    "kernelspec": {
      "name": "python3",
      "display_name": "Python 3"
    },
    "language_info": {
      "name": "python"
    }
  },
  "cells": [
    {
      "cell_type": "markdown",
      "metadata": {
        "id": "2_UdK0Bh331w"
      },
      "source": [
        "StreamlitによるWebアプリケーション作成方法"
      ]
    },
    {
      "cell_type": "code",
      "metadata": {
        "id": "4sex_oKzvg2F",
        "colab": {
          "base_uri": "https://localhost:8080/",
          "height": 35
        },
        "outputId": "66c54b4c-fb02-47ae-9275-5fb74cdb9669"
      },
      "source": [
        "#以下のインストールが完了していなかったら行ってください\n",
        "\"\"\" !pip install --no-deps vaex\n",
        "!pip install ipykernel>=5.1.2\n",
        "!pip install pydeck\n",
        "!pip install streamlit\n",
        "!pip3 install streamlit \"\"\""
      ],
      "execution_count": null,
      "outputs": [
        {
          "output_type": "execute_result",
          "data": {
            "application/vnd.google.colaboratory.intrinsic+json": {
              "type": "string"
            },
            "text/plain": [
              "' !pip install --no-deps vaex\\n!pip install ipykernel>=5.1.2\\n!pip install pydeck\\n!pip install streamlit\\n!pip3 install streamlit '"
            ]
          },
          "metadata": {},
          "execution_count": 1
        }
      ]
    },
    {
      "cell_type": "code",
      "metadata": {
        "id": "PJSdXDpdy2k0"
      },
      "source": [
        "import pandas as pd\n",
        "import numpy as np\n",
        "import streamlit as st"
      ],
      "execution_count": null,
      "outputs": []
    },
    {
      "cell_type": "markdown",
      "metadata": {
        "id": "AZFv6dzY4Ylb"
      },
      "source": [
        "**アプリの実行**\\\n",
        "コマンドプロンプトで以下を実行\\\n",
        "streamlit run streamlit.py #ファイル名がstreamlit.pyの場合\n",
        "↓\\\n",
        "  Welcome to Streamlit!\n",
        "\n",
        "  If you're one of our development partners or you're interested in getting\n",
        "  personal technical support or Streamlit updates, please enter your email\n",
        "  address below. Otherwise, you may leave the field blank.\n",
        "\n",
        "  Email:\n",
        "\n",
        "  Privacy Policy:\n",
        "  As an open source project, we collect usage statistics. We cannot see and do\n",
        "  not store information contained in Streamlit apps. You can find out more by\n",
        "  reading our privacy policy at: https://streamlit.io/privacy-policy\n",
        "\n",
        "  If you'd like to opt out of usage statistics, add the following to\n",
        "  %userprofile%/.streamlit/config.toml, creating that file if necessary:\n",
        "\n",
        "    [browser]\n",
        "    gatherUsageStats = false\n",
        "\n",
        "\n",
        "  You can now view your Streamlit app in your browser.\n",
        "\n",
        "  Local URL: http://localhost:8501\n",
        "  Network URL: http://192.168.11.12:8501"
      ]
    },
    {
      "cell_type": "markdown",
      "metadata": {
        "id": "ZOXb9Tbu4-7x"
      },
      "source": [
        "アプリが起動しているURLが示されています。\\\n",
        "ローカルだけでなく、ネットワークにも公開してくれる。"
      ]
    },
    {
      "cell_type": "markdown",
      "metadata": {
        "id": "vf80zZkM5KwS"
      },
      "source": [
        "各要素の実行結果を以下に表示します。"
      ]
    },
    {
      "cell_type": "markdown",
      "metadata": {
        "id": "QkwKIhmF7OSY"
      },
      "source": [
        "・テキスト要素"
      ]
    },
    {
      "cell_type": "code",
      "metadata": {
        "colab": {
          "base_uri": "https://localhost:8080/"
        },
        "id": "v9FHjAfq4a1s",
        "outputId": "3be0d17d-3096-48cc-b8fd-ba2730450a85"
      },
      "source": [
        "st.markdown('hello ** world **.')\n",
        "st.title('タイトル')\n",
        "st.header('ヘッダー')\n",
        "st.subheader('サブヘッダー')\n",
        "st.caption('キャプション')\n",
        "st.text('This is some text')\n",
        "st.write('This is some text') # markdown\n",
        "st.latex(r'''a + ar + a r^2 + a r^3 + \\cdots + a r^{n-1} =\n",
        "\\sum_{k=0}^{n-1} ar^k = a \\left(\\frac{1-r^{n}}{1-r}\\right)''')"
      ],
      "execution_count": null,
      "outputs": [
        {
          "output_type": "execute_result",
          "data": {
            "text/plain": [
              "DeltaGenerator(_root_container=0, _provided_cursor=None, _parent=None, _block_type=None, _form_data=None)"
            ]
          },
          "metadata": {},
          "execution_count": 25
        }
      ]
    },
    {
      "cell_type": "markdown",
      "metadata": {
        "id": "ZwAhMBdA7U9t"
      },
      "source": [
        "・データ表示要素"
      ]
    },
    {
      "cell_type": "markdown",
      "metadata": {
        "id": "sW18j4dxLwRg"
      },
      "source": [
        "・データフレーム"
      ]
    },
    {
      "cell_type": "code",
      "metadata": {
        "colab": {
          "base_uri": "https://localhost:8080/"
        },
        "id": "_PNExfMq4Zmw",
        "outputId": "dd6116e7-43c6-4fa5-9439-db8c2d93515f"
      },
      "source": [
        "df = pd.DataFrame(np.random.randn(20, 3),columns=['a', 'b', 'c'])\n",
        "st.dataframe(df)  # Same as st.write(df)"
      ],
      "execution_count": null,
      "outputs": [
        {
          "output_type": "execute_result",
          "data": {
            "text/plain": [
              "DeltaGenerator(_root_container=0, _provided_cursor=None, _parent=None, _block_type=None, _form_data=None)"
            ]
          },
          "metadata": {},
          "execution_count": 4
        }
      ]
    },
    {
      "cell_type": "markdown",
      "metadata": {
        "id": "gm7UICuhLyK2"
      },
      "source": [
        "・メトリック"
      ]
    },
    {
      "cell_type": "code",
      "metadata": {
        "colab": {
          "base_uri": "https://localhost:8080/",
          "height": 35
        },
        "id": "OGG3XgxX7p__",
        "outputId": "49dfae7d-700d-405f-e021-f911f444d77f"
      },
      "source": [
        "col1, col2, col3 = st.columns(3)\n",
        "col1.metric(\"Temperature\", \"70 °F\", \"1.2 °F\")\n",
        "col2.metric(\"Wind\", \"9 mph\", \"-8%\")\n",
        "col3.metric(\"Humidity\", \"86%\", \"4%\")"
      ],
      "execution_count": null,
      "outputs": [
        {
          "output_type": "execute_result",
          "data": {
            "application/vnd.google.colaboratory.intrinsic+json": {
              "type": "string"
            },
            "text/plain": [
              "'DeltaGenerator(_root_container=0, _provided_cursor=None, _parent=None, _block_type=None, _form_data=None)'"
            ]
          },
          "metadata": {},
          "execution_count": 5
        }
      ]
    },
    {
      "cell_type": "markdown",
      "metadata": {
        "id": "EW4FWlJr9FCO"
      },
      "source": [
        "**・チャート要素**"
      ]
    },
    {
      "cell_type": "markdown",
      "metadata": {
        "id": "vNL4lDIALND9"
      },
      "source": [
        "・折れ線グラフ"
      ]
    },
    {
      "cell_type": "code",
      "metadata": {
        "colab": {
          "base_uri": "https://localhost:8080/"
        },
        "id": "IyCcCtO_8ZRD",
        "outputId": "adca9df4-39aa-4e15-a893-1abec935abb8"
      },
      "source": [
        "st.line_chart(df)"
      ],
      "execution_count": null,
      "outputs": [
        {
          "output_type": "execute_result",
          "data": {
            "text/plain": [
              "DeltaGenerator(_root_container=0, _provided_cursor=None, _parent=None, _block_type=None, _form_data=None)"
            ]
          },
          "metadata": {},
          "execution_count": 6
        }
      ]
    },
    {
      "cell_type": "code",
      "metadata": {
        "colab": {
          "base_uri": "https://localhost:8080/"
        },
        "id": "s0w8eAw99eWO",
        "outputId": "1c82e253-5871-4927-d022-060f1d1eeb39"
      },
      "source": [
        "st.area_chart(df) #折れ線グラフの範囲"
      ],
      "execution_count": null,
      "outputs": [
        {
          "output_type": "execute_result",
          "data": {
            "text/plain": [
              "DeltaGenerator(_root_container=0, _provided_cursor=None, _parent=None, _block_type=None, _form_data=None)"
            ]
          },
          "metadata": {},
          "execution_count": 7
        }
      ]
    },
    {
      "cell_type": "markdown",
      "metadata": {
        "id": "c6kL8C2ZLadA"
      },
      "source": [
        "・棒グラフ"
      ]
    },
    {
      "cell_type": "code",
      "metadata": {
        "colab": {
          "base_uri": "https://localhost:8080/"
        },
        "id": "ln_sTDeB-T5A",
        "outputId": "b28a4290-36cc-4bc9-ac96-ecb54e61ed73"
      },
      "source": [
        "st.bar_chart(df)"
      ],
      "execution_count": null,
      "outputs": [
        {
          "output_type": "execute_result",
          "data": {
            "text/plain": [
              "DeltaGenerator(_root_container=0, _provided_cursor=None, _parent=None, _block_type=None, _form_data=None)"
            ]
          },
          "metadata": {},
          "execution_count": 8
        }
      ]
    },
    {
      "cell_type": "markdown",
      "metadata": {
        "id": "SpsikRrfLcR6"
      },
      "source": [
        "・マップ"
      ]
    },
    {
      "cell_type": "code",
      "metadata": {
        "id": "f4mixSud_rK0"
      },
      "source": [
        "def main():\n",
        "    # 東京のランダムな経度・緯度を生成する\n",
        "    data = {\n",
        "        'lat': np.random.randn(100) / 100 + 35.68,\n",
        "        'lon': np.random.randn(100) / 100 + 139.75,\n",
        "    }\n",
        "    map_data = pd.DataFrame(data)\n",
        "    # 地図に散布図を描く\n",
        "    st.map(map_data)\n",
        "\n",
        "if __name__ == '__main__':\n",
        "    main()"
      ],
      "execution_count": null,
      "outputs": []
    },
    {
      "cell_type": "markdown",
      "metadata": {
        "id": "aHpYc_cWLfwz"
      },
      "source": [
        "・グラフ構造図"
      ]
    },
    {
      "cell_type": "code",
      "metadata": {
        "colab": {
          "base_uri": "https://localhost:8080/"
        },
        "id": "sz0vZvW6A8Jz",
        "outputId": "174b9eb2-de86-43dc-b5c3-ef3d18c78949"
      },
      "source": [
        "st.graphviz_chart('''\n",
        "    digraph {\n",
        "        run -> intr\n",
        "        intr -> runbl\n",
        "        runbl -> run\n",
        "        run -> kernel\n",
        "        kernel -> zombie\n",
        "        kernel -> sleep\n",
        "        kernel -> runmem\n",
        "        sleep -> swap\n",
        "        swap -> runswap\n",
        "        runswap -> new\n",
        "        runswap -> runmem\n",
        "        new -> runmem\n",
        "        sleep -> runmem\n",
        "    }''')"
      ],
      "execution_count": null,
      "outputs": [
        {
          "output_type": "execute_result",
          "data": {
            "text/plain": [
              "DeltaGenerator(_root_container=0, _provided_cursor=None, _parent=None, _block_type=None, _form_data=None)"
            ]
          },
          "metadata": {},
          "execution_count": 10
        }
      ]
    },
    {
      "cell_type": "markdown",
      "metadata": {
        "id": "nqQwoukxCieO"
      },
      "source": [
        "**・入力ウィジィット**"
      ]
    },
    {
      "cell_type": "markdown",
      "metadata": {
        "id": "txlriKapKNlL"
      },
      "source": [
        "・ボタン"
      ]
    },
    {
      "cell_type": "code",
      "metadata": {
        "id": "9dxAHdx2CCmm"
      },
      "source": [
        "if st.button('Say hello'):\n",
        "       st.write('Why hello there')\n",
        "else:\n",
        "       st.write('Goodbye')"
      ],
      "execution_count": null,
      "outputs": []
    },
    {
      "cell_type": "markdown",
      "metadata": {
        "id": "T8ek3syIKRBl"
      },
      "source": [
        "・チェックボックス"
      ]
    },
    {
      "cell_type": "code",
      "metadata": {
        "id": "ardY2eSXC1pY"
      },
      "source": [
        "agree = st.checkbox('I agree')\n",
        "if agree:\n",
        "       st.write('Great!')"
      ],
      "execution_count": null,
      "outputs": []
    },
    {
      "cell_type": "markdown",
      "metadata": {
        "id": "CvB30luSKTzd"
      },
      "source": [
        "・ラジオボタン"
      ]
    },
    {
      "cell_type": "code",
      "metadata": {
        "id": "7z6-cecpC9CS"
      },
      "source": [
        "genre = st.radio(\"What's your favorite movie genre\",\n",
        "                 ('Comedy', 'Drama', 'Documentary'))\n",
        "if genre == 'Comedy':\n",
        "  st.write('You selected comedy.')\n",
        "else:\n",
        "  st.write(\"You didn't select comedy.\")"
      ],
      "execution_count": null,
      "outputs": []
    },
    {
      "cell_type": "markdown",
      "metadata": {
        "id": "ogLp1E-1KKDr"
      },
      "source": [
        "・セレクトボックス"
      ]
    },
    {
      "cell_type": "code",
      "metadata": {
        "id": "FE4lMlo8DlnS"
      },
      "source": [
        "option = st.selectbox('How would you like to be contacted?',\n",
        "                      ('Email', 'Home phone', 'Mobile phone'))\n",
        "st.write('You selected:', option)"
      ],
      "execution_count": null,
      "outputs": []
    },
    {
      "cell_type": "code",
      "metadata": {
        "id": "Tz76i5MHDu5l"
      },
      "source": [
        "options = st.multiselect(\n",
        "     'What are your favorite colors',\n",
        "     ['Green', 'Yellow', 'Red', 'Blue'],\n",
        "     ['Yellow', 'Red'])\n",
        "st.write('You selected:', options)"
      ],
      "execution_count": null,
      "outputs": []
    },
    {
      "cell_type": "markdown",
      "metadata": {
        "id": "JI8vkP_QKDkL"
      },
      "source": [
        "・スライダー"
      ]
    },
    {
      "cell_type": "code",
      "metadata": {
        "id": "ooGaRrMKDxRF"
      },
      "source": [
        "age = st.slider('How old are you?', 0, 130, 25)\n",
        "st.write(\"I'm \", age, 'years old')"
      ],
      "execution_count": null,
      "outputs": []
    },
    {
      "cell_type": "code",
      "metadata": {
        "id": "3WsCqHFeD5lR"
      },
      "source": [
        "color = st.select_slider(\n",
        "     'Select a color of the rainbow',\n",
        "     options=['red', 'orange', 'yellow', 'green', 'blue', 'indigo', 'violet'])\n",
        "st.write('My favorite color is', color)"
      ],
      "execution_count": null,
      "outputs": []
    },
    {
      "cell_type": "markdown",
      "metadata": {
        "id": "HL7xSKiWLCxa"
      },
      "source": [
        "・テキスト入力"
      ]
    },
    {
      "cell_type": "code",
      "metadata": {
        "id": "h_vesIL-D_D3"
      },
      "source": [
        "title = st.text_input('Movie title', 'Life of Brian')\n",
        "st.write('The current movie title is', title)"
      ],
      "execution_count": null,
      "outputs": []
    },
    {
      "cell_type": "markdown",
      "metadata": {
        "id": "p7rxvxJMLA8X"
      },
      "source": [
        "・数値"
      ]
    },
    {
      "cell_type": "code",
      "metadata": {
        "id": "Fuywhh-mECqn"
      },
      "source": [
        "number = st.number_input('Insert a number',0,100)\n",
        "st.write('The current number is ', number)"
      ],
      "execution_count": null,
      "outputs": []
    },
    {
      "cell_type": "markdown",
      "metadata": {
        "id": "woixU1gJK3hx"
      },
      "source": [
        "・Date / Time"
      ]
    },
    {
      "cell_type": "code",
      "metadata": {
        "id": "tPmUIsf2EGaT"
      },
      "source": [
        "import datetime\n",
        "d = st.date_input(\n",
        "     \"When's your birthday\",\n",
        "     datetime.date(2019, 7, 6))\n",
        "st.write('Your birthday is:', d)"
      ],
      "execution_count": null,
      "outputs": []
    },
    {
      "cell_type": "code",
      "metadata": {
        "id": "nOei4XjsEQMV"
      },
      "source": [
        "t = st.time_input('Set an alarm for', datetime.time(8, 45))\n",
        "st.write('Alarm is set for', t)"
      ],
      "execution_count": null,
      "outputs": []
    },
    {
      "cell_type": "markdown",
      "metadata": {
        "id": "3LA1mI4PEqCs"
      },
      "source": [
        "**・メディア要素**"
      ]
    },
    {
      "cell_type": "markdown",
      "metadata": {
        "id": "ArCVMtNsE739"
      },
      "source": [
        "https://unsplash.com/　よりダウンロード（Free）"
      ]
    },
    {
      "cell_type": "code",
      "metadata": {
        "colab": {
          "base_uri": "https://localhost:8080/"
        },
        "id": "Kd2nCndLEsBw",
        "outputId": "ea468a0b-8313-4e8a-db60-ff9ee910392d"
      },
      "source": [
        "#https://unsplash.com/photos/Yq6SGRfJ17Y\n",
        "from PIL import Image\n",
        "image = Image.open('jakob-owens-Yq6SGRfJ17Y-unsplash.jpg')\n",
        "st.image(image, caption='Sunrise by the mountains')"
      ],
      "execution_count": null,
      "outputs": [
        {
          "output_type": "execute_result",
          "data": {
            "text/plain": [
              "DeltaGenerator(_root_container=0, _provided_cursor=None, _parent=None, _block_type=None, _form_data=None)"
            ]
          },
          "metadata": {},
          "execution_count": 22
        }
      ]
    },
    {
      "cell_type": "code",
      "metadata": {
        "colab": {
          "base_uri": "https://localhost:8080/",
          "height": 35
        },
        "id": "errpzqI0Fzlv",
        "outputId": "0da6a4fc-7646-4fc6-e851-0e9bb19532ad"
      },
      "source": [
        "#音声ファイル\n",
        "\"\"\"\n",
        "audio_file = open('myaudio.ogg', 'rb')\n",
        "audio_bytes = audio_file.read()\n",
        "st.audio(audio_bytes, format='audio/ogg') \"\"\""
      ],
      "execution_count": null,
      "outputs": [
        {
          "output_type": "execute_result",
          "data": {
            "application/vnd.google.colaboratory.intrinsic+json": {
              "type": "string"
            },
            "text/plain": [
              "\"\\naudio_file = open('myaudio.ogg', 'rb')\\naudio_bytes = audio_file.read()\\nst.audio(audio_bytes, format='audio/ogg') \""
            ]
          },
          "metadata": {},
          "execution_count": 23
        }
      ]
    },
    {
      "cell_type": "code",
      "metadata": {
        "colab": {
          "base_uri": "https://localhost:8080/",
          "height": 35
        },
        "id": "Df7Jw78qFzpm",
        "outputId": "a2f316b5-639b-4cca-d700-31918dfb199e"
      },
      "source": [
        "#動画ファイル\n",
        "\"\"\"\n",
        "video_file = open('myvideo.mp4', 'rb')\n",
        "video_bytes = video_file.read()\n",
        "st.video(video_bytes) \"\"\""
      ],
      "execution_count": null,
      "outputs": [
        {
          "output_type": "execute_result",
          "data": {
            "application/vnd.google.colaboratory.intrinsic+json": {
              "type": "string"
            },
            "text/plain": [
              "\"\\nvideo_file = open('myvideo.mp4', 'rb')\\nvideo_bytes = video_file.read()\\nst.video(video_bytes) \""
            ]
          },
          "metadata": {},
          "execution_count": 24
        }
      ]
    },
    {
      "cell_type": "code",
      "metadata": {
        "id": "UMN7_aQ_ZfMb"
      },
      "source": [
        ""
      ],
      "execution_count": null,
      "outputs": []
    }
  ]
}